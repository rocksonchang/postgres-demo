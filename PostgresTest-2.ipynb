{
 "cells": [
  {
   "cell_type": "markdown",
   "metadata": {},
   "source": [
    "## Messing around with PostgreSQL\n",
    "### Zetcode approach using Pandas\n",
    "http://zetcode.com/db/postgresqlpythontutorial/"
   ]
  },
  {
   "cell_type": "code",
   "execution_count": 1,
   "metadata": {
    "collapsed": true
   },
   "outputs": [],
   "source": [
    "## Python packages - you may have to pip install sqlalchemy, sqlalchemy_utils, and psycopg2.\n",
    "from sqlalchemy import create_engine\n",
    "from sqlalchemy_utils import database_exists, create_database\n",
    "import psycopg2\n",
    "import sys\n",
    "#import pandas as pd"
   ]
  },
  {
   "cell_type": "markdown",
   "metadata": {},
   "source": [
    "Start postgresql server.  Launch from launchpad, or\n",
    "\n",
    "$ postgres -D /Users/rockson/Library/Application\\ Support/Postgres/var-9.5"
   ]
  },
  {
   "cell_type": "code",
   "execution_count": 2,
   "metadata": {
    "collapsed": false
   },
   "outputs": [
    {
     "name": "stdout",
     "output_type": "stream",
     "text": [
      "postgres://rockson@localhost/cars_db\n"
     ]
    }
   ],
   "source": [
    "#In Python: Define a database name (we're using a dataset on births, so I call it \n",
    "# birth_db), and your username for your computer (CHANGE IT BELOW). \n",
    "dbname = 'cars_db'\n",
    "username = 'rockson'\n",
    "\n",
    "## 'engine' is a connection to a database\n",
    "## Here, we're using postgres, but sqlalchemy can connect to other things too.\n",
    "engine = create_engine('postgres://%s@localhost/%s'%(username,dbname))\n",
    "print engine.url"
   ]
  },
  {
   "cell_type": "code",
   "execution_count": 3,
   "metadata": {
    "collapsed": false
   },
   "outputs": [
    {
     "name": "stdout",
     "output_type": "stream",
     "text": [
      "True\n"
     ]
    }
   ],
   "source": [
    "## create a database (if it doesn't exist)\n",
    "if not database_exists(engine.url):\n",
    "    create_database(engine.url)\n",
    "print(database_exists(engine.url))"
   ]
  },
  {
   "cell_type": "markdown",
   "metadata": {},
   "source": [
    "### Find version"
   ]
  },
  {
   "cell_type": "code",
   "execution_count": 4,
   "metadata": {
    "collapsed": false
   },
   "outputs": [
    {
     "name": "stdout",
     "output_type": "stream",
     "text": [
      "('PostgreSQL 9.5.4 on x86_64-apple-darwin14.5.0, compiled by Apple LLVM version 7.0.0 (clang-700.1.76), 64-bit',)\n"
     ]
    }
   ],
   "source": [
    "con = None\n",
    "try:\n",
    "    # connect:\n",
    "    con = psycopg2.connect(database = dbname, user = username)\n",
    "    cur = con.cursor()\n",
    "    # find version\n",
    "    cur.execute('SELECT version()')\n",
    "    ver = cur.fetchone()\n",
    "    print ver\n",
    "\n",
    "except psycopg2.DatabaseError, e:\n",
    "    print 'Error %s' % e    \n",
    "    sys.exit(1)\n",
    "        \n",
    "finally:    \n",
    "    if con:\n",
    "        con.close()"
   ]
  },
  {
   "cell_type": "markdown",
   "metadata": {},
   "source": [
    "### Inserting data"
   ]
  },
  {
   "cell_type": "code",
   "execution_count": 5,
   "metadata": {
    "collapsed": false
   },
   "outputs": [],
   "source": [
    "con = None\n",
    "try:\n",
    "    # connect:\n",
    "    con = psycopg2.connect(database = dbname, user = username)\n",
    "    cur = con.cursor()\n",
    "    # insert data:\n",
    "    cur.execute(\"DROP TABLE IF EXISTS Cars\")\n",
    "    cur.execute(\"CREATE TABLE Cars(Id INTEGER PRIMARY KEY, Name VARCHAR(20), Price INT)\")\n",
    "    cur.execute(\"INSERT INTO Cars VALUES(1,'Audi',52642)\")\n",
    "    cur.execute(\"INSERT INTO Cars VALUES(2,'Mercedes',57127)\")\n",
    "    cur.execute(\"INSERT INTO Cars VALUES(3,'Skoda',9000)\")\n",
    "    cur.execute(\"INSERT INTO Cars VALUES(4,'Volvo',29000)\")\n",
    "    cur.execute(\"INSERT INTO Cars VALUES(5,'Bentley',350000)\")\n",
    "    cur.execute(\"INSERT INTO Cars VALUES(6,'Citroen',21000)\")\n",
    "    cur.execute(\"INSERT INTO Cars VALUES(7,'Hummer',41400)\")\n",
    "    cur.execute(\"INSERT INTO Cars VALUES(8,'Volkswagen',21600)\")\n",
    "    con.commit()\n",
    "except psycopg2.DatabaseError, e:\n",
    "    print 'Error %s' % e    \n",
    "    sys.exit(1)\n",
    "finally:\n",
    "    if con:\n",
    "        con.close()"
   ]
  },
  {
   "cell_type": "markdown",
   "metadata": {},
   "source": [
    "Open psql terminal, run some terminal commands\n",
    "\n",
    "connect to db\n",
    "\n",
    "$ \\c birth_db2\n",
    "\n",
    "NOTE: SQL commands are capitalized.  They need to be capitalized, and terminated by a semi-colon.  Can write a multi-line command, prompt will show a '-' instead of a '='.\n",
    "\n",
    "Check list of databases\n",
    "\n",
    "$ \\l\n",
    "\n",
    "Check list of tables in current database\n",
    "\n",
    "$ \\dt\n",
    "$ \\d+ (for full info?)\n",
    "\n",
    "Column names /info in a given table\n",
    "\n",
    "$ \\d+ <table name>\n",
    "\n",
    "Run a SQL query\n",
    "\n",
    "$ SELECT * FROM Cars;\n",
    "\n",
    "Connect to a different database as user\n",
    "\n",
    "$ \\c birth_db rockson\n",
    "\n",
    "Delete a database\n",
    "\n",
    "$ DROP DATABASE birth_db;\n",
    "\n",
    "Delete table\n",
    "\n",
    "$ DROP TABLE Cars;\n",
    "\n",
    "Delete data from a table\n",
    "\n",
    "$ DELETE FROM Cars;\n",
    "\n",
    "Disconnect from database \n",
    "\n",
    "$ \\q\n",
    "\n",
    "Delete database or table\n",
    "\n",
    "$ DROP DATABASE [ IF EXISTS ] name;\n",
    "$ DROP TABLE [ IF EXISTS ] name;"
   ]
  },
  {
   "cell_type": "markdown",
   "metadata": {},
   "source": [
    "### Write same table using executemany() command"
   ]
  },
  {
   "cell_type": "code",
   "execution_count": 6,
   "metadata": {
    "collapsed": false
   },
   "outputs": [],
   "source": [
    "autos = (\n",
    "    (1, 'Audix', 52642),\n",
    "    (2, 'Mercedesx', 57127),\n",
    "    (3, 'Skodax', 9000),\n",
    "    (4, 'Volvo', 29000),\n",
    "    (5, 'Bentley', 350000),\n",
    "    (6, 'Citroen', 21000),\n",
    "    (7, 'Hummer', 41400),\n",
    "    (8, 'Volkswagen', 21600)\n",
    ")\n",
    "\n",
    "con = None\n",
    "try: \n",
    "    # connect\n",
    "    con = psycopg2.connect(database = dbname, user = username)\n",
    "    cur = con.cursor()\n",
    "    # Insert data\n",
    "    cur.execute(\"DROP TABLE IF EXISTS Autos\")\n",
    "    cur.execute(\"CREATE TABLE Autos(Id INT PRIMARY KEY, Name TEXT, Price INT)\")\n",
    "    query = \"INSERT INTO Autos (Id, Name, Price) VALUES (%s, %s, %s)\"\n",
    "    cur.executemany(query, autos)  \n",
    "    con.commit()\n",
    "except psycopg2.DatabaseError, e:\n",
    "    print 'Error %s' % e    \n",
    "    sys.exit(1)\n",
    "finally:\n",
    "    if con:\n",
    "        con.close()"
   ]
  },
  {
   "cell_type": "markdown",
   "metadata": {},
   "source": [
    "### Retreive data from table"
   ]
  },
  {
   "cell_type": "code",
   "execution_count": 15,
   "metadata": {
    "collapsed": false
   },
   "outputs": [
    {
     "name": "stdout",
     "output_type": "stream",
     "text": [
      "(1, 'Audix', 52642)\n",
      "(2, 'Mercedesx', 57127)\n",
      "(3, 'Skodax', 9000)\n",
      "(4, 'Volvo', 29000)\n",
      "(5, 'Bentley', 350000)\n",
      "(6, 'Citroen', 21000)\n",
      "(7, 'Hummer', 41400)\n",
      "(8, 'Volkswagen', 21600)\n"
     ]
    }
   ],
   "source": [
    "con = None\n",
    "try:\n",
    "    # connect\n",
    "    con = psycopg2.connect(database = dbname, user = username)\n",
    "    cur = con.cursor()\n",
    "    # retreive data\n",
    "    cur.execute(\"SELECT * FROM Autos\")\n",
    "    rows = cur.fetchall() # return all data from SQL query as a tuple of tuples\n",
    "    # row = cur.fetchone() # return one at a time\n",
    "    # print data  \n",
    "    for row in rows:\n",
    "        print row\n",
    "except psycopg2.DatabaseError, e:\n",
    "    print 'Error %s' %e\n",
    "    sys.exit(1)\n",
    "finally:\n",
    "    if con:\n",
    "        con.close()"
   ]
  },
  {
   "cell_type": "markdown",
   "metadata": {},
   "source": [
    "### Dictionary cursor"
   ]
  },
  {
   "cell_type": "code",
   "execution_count": 33,
   "metadata": {
    "collapsed": false
   },
   "outputs": [
    {
     "name": "stdout",
     "output_type": "stream",
     "text": [
      "2 Mercedes 57127\n",
      "3 Skoda 9000\n",
      "4 Volvo 29000\n",
      "5 Bentley 350000\n",
      "6 Citroen 21000\n",
      "1 Audi 62300\n",
      "7 Hummer 62301\n",
      "8 Volkswagen 62301\n"
     ]
    }
   ],
   "source": [
    "import psycopg2.extras # not sure if I need this imprt\n",
    "\n",
    "con = None\n",
    "try:\n",
    "    con = psycopg2.connect(database = dbname, user = username) \n",
    "    \n",
    "    cursor = con.cursor(cursor_factory=psycopg2.extras.DictCursor)\n",
    "    cursor.execute(\"SELECT * FROM Cars\")\n",
    "    \n",
    "    rows = cursor.fetchall()\n",
    "    for row in rows:\n",
    "        print \"%s %s %s\" % (row[\"id\"], row[\"name\"], row[\"price\"])\n",
    "        # note that capitalization isn't important\n",
    "        \n",
    "except psycopg2.DatabaseError, e:\n",
    "    print 'Error %s' % e    \n",
    "    sys.exit(1)\n",
    "  \n",
    "finally:\n",
    "    \n",
    "    if con:\n",
    "        con.close()"
   ]
  },
  {
   "cell_type": "markdown",
   "metadata": {},
   "source": [
    "### Parametrized queries\n",
    "Note that updated rows shift to bottom of table"
   ]
  },
  {
   "cell_type": "code",
   "execution_count": 32,
   "metadata": {
    "collapsed": false
   },
   "outputs": [
    {
     "name": "stdout",
     "output_type": "stream",
     "text": [
      "Number of rows updated: 2\n"
     ]
    }
   ],
   "source": [
    "con = None\n",
    "\n",
    "uId = 6\n",
    "uPrice = 62301\n",
    "\n",
    "try:     \n",
    "    con = psycopg2.connect(database = dbname, user = username) \n",
    "    cur = con.cursor()\n",
    "    \n",
    "    #cur.execute(\"UPDATE Cars SET Price=%s WHERE Id>%s\", (uPrice, uId))        \n",
    "    cur.execute(\"UPDATE Cars SET Price=%(price)s WHERE Id>%(id)s\", {'price':uPrice, 'id':uId})        \n",
    "    con.commit()\n",
    "    print \"Number of rows updated: %d\" % cur.rowcount\n",
    "    \n",
    "except psycopg2.DatabaseError, e:\n",
    "    if con:\n",
    "        con.rollback()\n",
    "    print 'Error %s' % e    \n",
    "    sys.exit(1)\n",
    "finally:\n",
    "    if con:\n",
    "        con.close()"
   ]
  },
  {
   "cell_type": "markdown",
   "metadata": {},
   "source": [
    "### Inserting images into a database -- SKIP"
   ]
  },
  {
   "cell_type": "markdown",
   "metadata": {},
   "source": [
    "### Reading images from a database -- SKIP"
   ]
  },
  {
   "cell_type": "markdown",
   "metadata": {},
   "source": [
    "### Metadata"
   ]
  },
  {
   "cell_type": "code",
   "execution_count": 43,
   "metadata": {
    "collapsed": false
   },
   "outputs": [
    {
     "name": "stdout",
     "output_type": "stream",
     "text": [
      "id name       price\n",
      " 2 Mercedes   57127\n",
      " 3 Skoda      9000\n",
      " 4 Volvo      29000\n",
      " 5 Bentley    350000\n",
      " 6 Citroen    21000\n",
      " 1 Audi       62300\n",
      " 7 Hummer     62301\n",
      " 8 Volkswagen 62301\n"
     ]
    }
   ],
   "source": [
    "con = None\n",
    "try:\n",
    "    con = psycopg2.connect(database = dbname, user = username) \n",
    "    cur = con.cursor()\n",
    "    cur.execute('SELECT * FROM Cars')\n",
    "    col_names = [cn[0] for cn in cur.description]\n",
    "    rows = cur.fetchall()\n",
    "    \n",
    "    print \"%s %-10s %s\" % (col_names[0], col_names[1], col_names[2])\n",
    "    for row in rows:    \n",
    "        print \"%2s %-10s %s\" % row\n",
    "        \n",
    "except psycopg2.DatabaseError, e:\n",
    "    print 'Error %s' % e    \n",
    "    sys.exit(1)\n",
    "finally:\n",
    "    if con:\n",
    "        con.close()"
   ]
  },
  {
   "cell_type": "markdown",
   "metadata": {},
   "source": [
    "### Export data"
   ]
  },
  {
   "cell_type": "code",
   "execution_count": 37,
   "metadata": {
    "collapsed": true
   },
   "outputs": [],
   "source": [
    "con = None\n",
    "fout = None\n",
    "try:     \n",
    "    con = psycopg2.connect(database=dbname, user=username)     \n",
    "    cur = con.cursor()\n",
    "    fout = open('cars.sql', 'w')\n",
    "    cur.copy_to(fout, 'cars', sep=\"|\")                        \n",
    "    \n",
    "except psycopg2.DatabaseError, e:\n",
    "    print 'Error %s' % e    \n",
    "    sys.exit(1)\n",
    "\n",
    "except IOError, e:    \n",
    "    print 'Error %s' % e   \n",
    "    sys.exit(1)\n",
    "    \n",
    "finally:\n",
    "    if con:\n",
    "        con.close()\n",
    "    if fout:\n",
    "        fout.close() "
   ]
  },
  {
   "cell_type": "markdown",
   "metadata": {},
   "source": [
    "### Import data\n",
    "For this particular example, need to clear data from table first\n",
    "\n",
    "$ DELETE FROM cars;"
   ]
  },
  {
   "cell_type": "code",
   "execution_count": 42,
   "metadata": {
    "collapsed": true
   },
   "outputs": [],
   "source": [
    "con = None\n",
    "f = None\n",
    "\n",
    "try:\n",
    "    con = psycopg2.connect(database=dbname, user=username) \n",
    "    cur = con.cursor()\n",
    "    f = open('cars.sql', 'r')\n",
    "    cur.copy_from(f, 'cars', sep=\"|\")                    \n",
    "    con.commit()\n",
    "    \n",
    "except psycopg2.DatabaseError, e:    \n",
    "    if con:\n",
    "        con.rollback()\n",
    "    print 'Error %s' % e    \n",
    "    sys.exit(1)\n",
    "except IOError, e:    \n",
    "    if con:\n",
    "        con.rollback()\n",
    "    print 'Error %s' % e   \n",
    "    sys.exit(1)\n",
    "    \n",
    "finally:\n",
    "    if con:\n",
    "        con.close()\n",
    "    if f:\n",
    "        f.close()  "
   ]
  },
  {
   "cell_type": "markdown",
   "metadata": {},
   "source": [
    "### Transactions\n",
    "\n",
    "IN the psycopg2 module, a transaction is started by the first command to a connection cursor.  Subsequent commands fall under this same transaction.    \n",
    "\n",
    "To terminate at transaction, it is necessary to run con.commit() or con.rollback().\n",
    "\n",
    "Instead of an explicit commit(), can specify autocommit, \n",
    "\n",
    "con.autocommit = True"
   ]
  },
  {
   "cell_type": "code",
   "execution_count": null,
   "metadata": {
    "collapsed": true
   },
   "outputs": [],
   "source": []
  }
 ],
 "metadata": {
  "kernelspec": {
   "display_name": "Python [my_projects_env]",
   "language": "python",
   "name": "Python [my_projects_env]"
  },
  "language_info": {
   "codemirror_mode": {
    "name": "ipython",
    "version": 2
   },
   "file_extension": ".py",
   "mimetype": "text/x-python",
   "name": "python",
   "nbconvert_exporter": "python",
   "pygments_lexer": "ipython2",
   "version": "2.7.12"
  }
 },
 "nbformat": 4,
 "nbformat_minor": 0
}
